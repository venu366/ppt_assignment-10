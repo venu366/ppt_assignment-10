{
 "cells": [
  {
   "cell_type": "code",
   "execution_count": null,
   "id": "ff849227",
   "metadata": {},
   "outputs": [],
   "source": [
    "#1Q\n",
    "\n",
    "def isPower_of_Three(n):\n",
    " \n",
    "    if (n <= 0):\n",
    "        return False\n",
    "    if (n % 3 == 0):\n",
    "        return isPower_of_Three(n // 3)\n",
    "    if (n == 1):\n",
    "        return True\n",
    "    return False\n",
    "    \n",
    "    \n",
    "    "
   ]
  },
  {
   "cell_type": "code",
   "execution_count": null,
   "id": "52dea70b",
   "metadata": {},
   "outputs": [],
   "source": [
    "def removeAlt(n):\n",
    "    if (n==1):\n",
    "        return 1\n",
    "    \n",
    "    "
   ]
  },
  {
   "cell_type": "code",
   "execution_count": null,
   "id": "821deccf",
   "metadata": {},
   "outputs": [],
   "source": [
    "#3Q\n",
    "\n",
    "def powerSet(string, index, curr):\n",
    " \n",
    "    # string : Stores input string\n",
    "    # curr : Stores current subset\n",
    "    # index : Index in current subset, curr\n",
    "    if index == len(string):\n",
    "        print(curr)\n",
    "        return\n",
    " \n",
    "    powerSet(string, index + 1,\n",
    "             curr + string[index])\n",
    "    powerSet(string, index + 1, curr)"
   ]
  },
  {
   "cell_type": "code",
   "execution_count": null,
   "id": "74d905bd",
   "metadata": {},
   "outputs": [],
   "source": [
    "#4Q\n",
    "\n",
    "def string_length(str) :\n",
    "     \n",
    "    # if we reach at the\n",
    "    # end of the string\n",
    "    if str == '':\n",
    "        return 0\n",
    "    else :\n",
    "        return 1 + string_length(str[1:])"
   ]
  },
  {
   "cell_type": "code",
   "execution_count": null,
   "id": "1d52e3d1",
   "metadata": {},
   "outputs": [],
   "source": [
    "#5Q\n",
    "\n",
    "def countSubstrs(str, i, j, n):\n",
    " \n",
    "    # base cases\n",
    "    if (n == 1):\n",
    "        return 1\n",
    "    if (n <= 0):\n",
    "        return 0\n",
    " \n",
    "    res = (countSubstrs(str, i + 1, j, n - 1)\n",
    "        + countSubstrs(str, i, j - 1, n - 1)\n",
    "        - countSubstrs(str, i + 1, j - 1, n - 2))    \n",
    " \n",
    "    if (str[i] == str[j]):\n",
    "        res += 1\n",
    " \n",
    "    return res"
   ]
  },
  {
   "cell_type": "code",
   "execution_count": null,
   "id": "f9fe0ad2",
   "metadata": {},
   "outputs": [],
   "source": [
    "#6Q\n",
    "\n",
    "def TowerOfHanoi(n, from_rod, to_rod, aux_rod):\n",
    "    if n == 0:\n",
    "        return\n",
    "    TowerOfHanoi(n-1, from_rod, aux_rod, to_rod)\n",
    "    print(\"Move disk\", n, \"from rod\", from_rod, \"to rod\", to_rod)\n",
    "    TowerOfHanoi(n-1, aux_rod, to_rod, from_rod)"
   ]
  },
  {
   "cell_type": "code",
   "execution_count": null,
   "id": "6629de95",
   "metadata": {},
   "outputs": [],
   "source": [
    "#7Q\n",
    "\n",
    "def permute(s, answer):\n",
    "    if (len(s) == 0):\n",
    "        print(answer, end=\"  \")\n",
    "        return\n",
    " \n",
    "    for i in range(len(s)):\n",
    "        ch = s[i]\n",
    "        left_substr = s[0:i]\n",
    "        right_substr = s[i + 1:]\n",
    "        rest = left_substr + right_substr\n",
    "        permute(rest, answer + ch)"
   ]
  },
  {
   "cell_type": "code",
   "execution_count": null,
   "id": "10ca30cd",
   "metadata": {},
   "outputs": [],
   "source": [
    "#8Q\n",
    "\n",
    "def isConsonant(ch):\n",
    "      \n",
    "    # To handle lower case\n",
    "    ch = ch.upper()\n",
    "  \n",
    "    return not (ch == 'A' or ch == 'E' or \n",
    "                ch == 'I' or ch == 'O' or \n",
    "                ch == 'U') and ord(ch) >= 65 and ord(ch) <= 90\n",
    "  \n",
    "# To count total number of  \n",
    "# consonants from 0 to n-1\n",
    "def totalConsonants(string, n):\n",
    "      \n",
    "    if n == 1:\n",
    "        return isConsonant(string[0])\n",
    "  \n",
    "    return totalConsonants(string, n - 1) + isConsonant(string[n-1])\n",
    "  "
   ]
  }
 ],
 "metadata": {
  "kernelspec": {
   "display_name": "Python 3 (ipykernel)",
   "language": "python",
   "name": "python3"
  },
  "language_info": {
   "codemirror_mode": {
    "name": "ipython",
    "version": 3
   },
   "file_extension": ".py",
   "mimetype": "text/x-python",
   "name": "python",
   "nbconvert_exporter": "python",
   "pygments_lexer": "ipython3",
   "version": "3.9.12"
  }
 },
 "nbformat": 4,
 "nbformat_minor": 5
}
